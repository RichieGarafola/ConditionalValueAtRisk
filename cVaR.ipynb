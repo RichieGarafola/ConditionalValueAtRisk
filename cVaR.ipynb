{
 "cells": [
  {
   "cell_type": "code",
   "execution_count": 1,
   "id": "da79aa33-e964-4829-baca-b6d794ac69c2",
   "metadata": {},
   "outputs": [],
   "source": [
    "# Import required libraries\n",
    "import numpy as np\n",
    "import pandas as pd\n",
    "import yfinance as yf\n",
    "\n",
    "import matplotlib.pyplot as plt"
   ]
  },
  {
   "cell_type": "code",
   "execution_count": 2,
   "id": "d60b5133-4fae-4b33-8e56-1c9bb2952c35",
   "metadata": {},
   "outputs": [
    {
     "name": "stdout",
     "output_type": "stream",
     "text": [
      "[*********************100%***********************]  90 of 90 completed\n"
     ]
    }
   ],
   "source": [
    "# use 90 stocks in the S&P 100 index. Grab the data and compute the returns.\n",
    "\n",
    "oex = ['MMM','T','ABBV','ABT','ACN','ALL','GOOGL','GOOG','MO','AMZN','AXP','AIG','AMGN','AAPL','BAC',\n",
    "       'BRK-B','BIIB','BLK','BA','BMY','CVS','COF','CAT','CVX','CSCO','C','KO','CL','CMCSA',\n",
    "       'COP','DHR','DUK','DD','EMC','EMR','EXC','XOM','META','FDX','F','GD','GE','GM','GILD',\n",
    "       'GS','HAL','HD','HON','INTC','IBM','JPM','JNJ','KMI','LLY','LMT','LOW','MA','MCD','MDT','MRK',\n",
    "       'MET','MSFT','MS','NKE','NEE','OXY','ORCL','PYPL','PEP','PFE','PM','PG','QCOM',\n",
    "       'SLB','SPG','SO','SBUX','TGT','TXN','BK','USB','UNP','UPS','UNH','VZ','V','WMT',\n",
    "       'WBA','DIS','WFC']\n",
    "\n",
    "num_stocks = len(oex)\n",
    "\n",
    "data = yf.download(oex, start='2014-01-01', end='2016-04-04')\n",
    "\n",
    "returns = data['Adj Close'].pct_change()\n",
    "returns = returns - returns.mean(skipna=True) # de-mean the returns"
   ]
  },
  {
   "cell_type": "code",
   "execution_count": 3,
   "id": "f8981658-74f6-48d5-aa07-c9b33f627464",
   "metadata": {},
   "outputs": [
    {
     "data": {
      "image/png": "[encoded data removed]",
      "text/plain": [
       "<Figure size 432x288 with 1 Axes>"
      ]
     },
     "metadata": {
      "needs_background": "light"
     },
     "output_type": "display_data"
    }
   ],
   "source": [
    "# Create a mock portfolio by generating random weights and multiplying them by the returns.\n",
    "\n",
    "def scale(x):\n",
    "    return x / np.sum(np.abs(x))\n",
    "\n",
    "weights = scale(np.random.random(num_stocks))\n",
    "plt.bar(np.arange(num_stocks),weights)\n",
    "\n",
    "# Save the figure.\n",
    "plt.savefig(\"./Images/randomWeights.jpg\")"
   ]
  },
  {
   "cell_type": "code",
   "execution_count": 4,
   "id": "559f3932-0513-4ea9-a2d5-78faeeb30d5b",
   "metadata": {},
   "outputs": [
    {
     "name": "stdin",
     "output_type": "stream",
     "text": [
      " 100000\n"
     ]
    }
   ],
   "source": [
    "# value invested\n",
    "value_invested = int(input())"
   ]
  },
  {
   "cell_type": "code",
   "execution_count": 5,
   "id": "0d4d952d-7e36-4dc2-a1e1-a10996bf84d7",
   "metadata": {},
   "outputs": [],
   "source": [
    "# Compute VaR and CVaR\n",
    "# Build a function for VaR so you can compare it to CVaR.\n",
    "\n",
    "def value_at_risk(\n",
    "    \n",
    "    # take in the value invested in the portfolio, \n",
    "    # the returns of the stocks in the portfolio, \n",
    "    # the weights of the stocks in the portfolio, \n",
    "    # and an optional alpha value (which is set to 0.95 by default) \n",
    "    # and lookback period (which is set to 500 days by default). \n",
    "    # It calculates the VaR of the portfolio by de-meaning the returns, \n",
    "    # multiplying the returns by the weights, and then finding the \n",
    "    # percentile value corresponding to the given alpha value. \n",
    "    # The VaR is then calculated as the product of this percentile value \n",
    "    # and the value invested in the portfolio.\n",
    "    \n",
    "    value_invested, \n",
    "    returns, weights, \n",
    "    alpha=0.95, \n",
    "    lookback_days=500\n",
    "):\n",
    "    returns = returns.fillna(0.0)\n",
    "    portfolio_returns = returns.iloc[-lookback_days:].dot(weights)\n",
    "    \n",
    "    return np.percentile(portfolio_returns, 100 * (1-alpha)) * value_invested"
   ]
  },
  {
   "cell_type": "code",
   "execution_count": 6,
   "id": "5f91281c-b281-45ce-8e26-b93995f50a7c",
   "metadata": {},
   "outputs": [],
   "source": [
    "def cvar(\n",
    "\n",
    "#     similar to the value_at_risk() function, but it calculates the CVaR \n",
    "#     instead of the VaR. It does this by first calculating the VaR\n",
    "#     of the portfolio using the value_at_risk() function, then finding \n",
    "#     the percentage loss of the portfolio returns that are below the VaR, \n",
    "#     and finally taking the mean of these returns and multiplying it\n",
    "#     by the value invested in the portfolio.\n",
    "\n",
    "    value_invested, \n",
    "    returns, \n",
    "    weights, \n",
    "    alpha=0.95, \n",
    "    lookback_days=500\n",
    "):\n",
    "    var = value_at_risk(value_invested, returns, weights, alpha, lookback_days=lookback_days)\n",
    "    \n",
    "    returns = returns.fillna(0.0)\n",
    "    portfolio_returns = returns.iloc[-lookback_days:].dot(weights)\n",
    "    var_pct_loss = var / value_invested\n",
    "    \n",
    "    return np.nanmean(portfolio_returns[portfolio_returns < var_pct_loss]) * value_invested"
   ]
  },
  {
   "cell_type": "code",
   "execution_count": 7,
   "id": "6a79c241-2e85-4571-b731-363ce69c2f5b",
   "metadata": {},
   "outputs": [
    {
     "name": "stdout",
     "output_type": "stream",
     "text": [
      "CVaR:\n"
     ]
    },
    {
     "data": {
      "text/plain": [
       "-2077.7183729801477"
      ]
     },
     "metadata": {},
     "output_type": "display_data"
    },
    {
     "name": "stdout",
     "output_type": "stream",
     "text": [
      "\n",
      "VaR\n"
     ]
    },
    {
     "data": {
      "text/plain": [
       "-1576.4279283664966"
      ]
     },
     "metadata": {},
     "output_type": "display_data"
    }
   ],
   "source": [
    "# Compute the CVaR and VaR of the portfolio and note the difference.\n",
    "print(\"CVaR:\")\n",
    "display(cvar(value_invested, returns, weights))\n",
    "print()\n",
    "print(\"VaR\")\n",
    "display(value_at_risk(value_invested, returns, weights))"
   ]
  },
  {
   "cell_type": "code",
   "execution_count": 8,
   "id": "178a70b7-5e28-4a3f-a4ae-c44e9297c547",
   "metadata": {},
   "outputs": [
    {
     "data": {
      "image/png": "[encoded data removed]",
      "text/plain": [
       "<Figure size 432x288 with 1 Axes>"
      ]
     },
     "metadata": {
      "needs_background": "light"
     },
     "output_type": "display_data"
    }
   ],
   "source": [
    "# If this still isn’t clear, a chart will help.\n",
    "# plot a histogram of the returns of the portfolio, \n",
    "# with the VaR and CVaR of the portfolio marked on the chart.\n",
    "# to visualize the difference between the VaR and the CVaR of the portfolio.\n",
    "\n",
    "lookback_days = 500\n",
    "\n",
    "portfolio_returns = returns.fillna(0.0).iloc[-lookback_days:].dot(weights)\n",
    "\n",
    "portfolio_VaR = value_at_risk(value_invested, returns, weights)\n",
    "portfolio_VaR_return = portfolio_VaR / value_invested\n",
    "\n",
    "portfolio_CVaR = cvar(value_invested, returns, weights)\n",
    "portfolio_CVaR_return = portfolio_CVaR / value_invested\n",
    "\n",
    "plt.hist(portfolio_returns[portfolio_returns > portfolio_VaR_return], bins=20)\n",
    "plt.hist(portfolio_returns[portfolio_returns < portfolio_VaR_return], bins=10)\n",
    "plt.axvline(portfolio_VaR_return, color='red', linestyle='solid')\n",
    "plt.axvline(portfolio_CVaR_return, color='red', linestyle='dashed')\n",
    "plt.legend(['VaR', 'CVaR', 'Returns', 'Returns < VaR'])\n",
    "plt.title('Historical VaR and CVaR')\n",
    "plt.xlabel('Return')\n",
    "plt.ylabel('Observation Frequency')\n",
    "\n",
    "# Save the figure.\n",
    "plt.savefig(\"./Images/portfolioReturns.jpg\")"
   ]
  },
  {
   "cell_type": "code",
   "execution_count": null,
   "id": "dfb8b70e-f5ea-4309-a133-e3475696217a",
   "metadata": {},
   "outputs": [],
   "source": []
  }
 ],
 "metadata": {
  "kernelspec": {
   "display_name": "Python [conda env:RGNY] *",
   "language": "python",
   "name": "conda-env-RGNY-py"
  },
  "language_info": {
   "codemirror_mode": {
    "name": "ipython",
    "version": 3
   },
   "file_extension": ".py",
   "mimetype": "text/x-python",
   "name": "python",
   "nbconvert_exporter": "python",
   "pygments_lexer": "ipython3",
   "version": "3.7.11"
  }
 },
 "nbformat": 4,
 "nbformat_minor": 5
}
